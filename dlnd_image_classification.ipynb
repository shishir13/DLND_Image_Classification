{
 "cells": [
  {
   "cell_type": "markdown",
   "metadata": {
    "collapsed": true
   },
   "source": [
    "# Image Classification\n",
    "In this project, you'll classify images from the [CIFAR-10 dataset](https://www.cs.toronto.edu/~kriz/cifar.html).  The dataset consists of airplanes, dogs, cats, and other objects. You'll preprocess the images, then train a convolutional neural network on all the samples. The images need to be normalized and the labels need to be one-hot encoded.  You'll get to apply what you learned and build a convolutional, max pooling, dropout, and fully connected layers.  At the end, you'll get to see your neural network's predictions on the sample images.\n",
    "## Get the Data\n",
    "Run the following cell to download the [CIFAR-10 dataset for python](https://www.cs.toronto.edu/~kriz/cifar-10-python.tar.gz)."
   ]
  },
  {
   "cell_type": "code",
   "execution_count": 28,
   "metadata": {},
   "outputs": [
    {
     "name": "stdout",
     "output_type": "stream",
     "text": [
      "All files found!\n"
     ]
    }
   ],
   "source": [
    "\"\"\"\n",
    "DON'T MODIFY ANYTHING IN THIS CELL THAT IS BELOW THIS LINE\n",
    "\"\"\"\n",
    "from urllib.request import urlretrieve\n",
    "from os.path import isfile, isdir\n",
    "from tqdm import tqdm\n",
    "import problem_unittests as tests\n",
    "import tarfile\n",
    "\n",
    "cifar10_dataset_folder_path = 'cifar-10-batches-py'\n",
    "\n",
    "# Use Floyd's cifar-10 dataset if present\n",
    "floyd_cifar10_location = '/cifar/cifar-10-python.tar.gz'\n",
    "if isfile(floyd_cifar10_location):\n",
    "    tar_gz_path = floyd_cifar10_location\n",
    "else:\n",
    "    tar_gz_path = 'cifar-10-python.tar.gz'\n",
    "\n",
    "class DLProgress(tqdm):\n",
    "    last_block = 0\n",
    "\n",
    "    def hook(self, block_num=1, block_size=1, total_size=None):\n",
    "        self.total = total_size\n",
    "        self.update((block_num - self.last_block) * block_size)\n",
    "        self.last_block = block_num\n",
    "\n",
    "if not isfile(tar_gz_path):\n",
    "    with DLProgress(unit='B', unit_scale=True, miniters=1, desc='CIFAR-10 Dataset') as pbar:\n",
    "        urlretrieve(\n",
    "            'https://www.cs.toronto.edu/~kriz/cifar-10-python.tar.gz',\n",
    "            tar_gz_path,\n",
    "            pbar.hook)\n",
    "\n",
    "if not isdir(cifar10_dataset_folder_path):\n",
    "    with tarfile.open(tar_gz_path) as tar:\n",
    "        tar.extractall()\n",
    "        tar.close()\n",
    "\n",
    "\n",
    "tests.test_folder_path(cifar10_dataset_folder_path)"
   ]
  },
  {
   "cell_type": "markdown",
   "metadata": {},
   "source": [
    "## Explore the Data\n",
    "The dataset is broken into batches to prevent your machine from running out of memory.  The CIFAR-10 dataset consists of 5 batches, named `data_batch_1`, `data_batch_2`, etc.. Each batch contains the labels and images that are one of the following:\n",
    "* airplane\n",
    "* automobile\n",
    "* bird\n",
    "* cat\n",
    "* deer\n",
    "* dog\n",
    "* frog\n",
    "* horse\n",
    "* ship\n",
    "* truck\n",
    "\n",
    "Understanding a dataset is part of making predictions on the data.  Play around with the code cell below by changing the `batch_id` and `sample_id`. The `batch_id` is the id for a batch (1-5). The `sample_id` is the id for a image and label pair in the batch.\n",
    "\n",
    "Ask yourself \"What are all possible labels?\", \"What is the range of values for the image data?\", \"Are the labels in order or random?\".  Answers to questions like these will help you preprocess the data and end up with better predictions."
   ]
  },
  {
   "cell_type": "code",
   "execution_count": 29,
   "metadata": {},
   "outputs": [
    {
     "name": "stdout",
     "output_type": "stream",
     "text": [
      "\n",
      "Stats of batch 1:\n",
      "Samples: 10000\n",
      "Label Counts: {0: 1005, 1: 974, 2: 1032, 3: 1016, 4: 999, 5: 937, 6: 1030, 7: 1001, 8: 1025, 9: 981}\n",
      "First 20 Labels: [6, 9, 9, 4, 1, 1, 2, 7, 8, 3, 4, 7, 7, 2, 9, 9, 9, 3, 2, 6]\n",
      "\n",
      "Example of Image 500:\n",
      "Image - Min Value: 0 Max Value: 255\n",
      "Image - Shape: (32, 32, 3)\n",
      "Label - Label Id: 5 Name: dog\n"
     ]
    },
    {
     "data": {
      "image/png": "[encoded data removed]",
      "text/plain": [
       "<matplotlib.figure.Figure at 0x7f1d3bfac048>"
      ]
     },
     "metadata": {
      "image/png": {
       "height": 250,
       "width": 253
      }
     },
     "output_type": "display_data"
    }
   ],
   "source": [
    "%matplotlib inline\n",
    "%config InlineBackend.figure_format = 'retina'\n",
    "\n",
    "import helper\n",
    "import numpy as np\n",
    "\n",
    "# Explore the dataset\n",
    "batch_id = 1\n",
    "sample_id = 500\n",
    "helper.display_stats(cifar10_dataset_folder_path, batch_id, sample_id)"
   ]
  },
  {
   "cell_type": "markdown",
   "metadata": {},
   "source": [
    "## Implement Preprocess Functions\n",
    "### Normalize\n",
    "In the cell below, implement the `normalize` function to take in image data, `x`, and return it as a normalized Numpy array. The values should be in the range of 0 to 1, inclusive.  The return object should be the same shape as `x`."
   ]
  },
  {
   "cell_type": "code",
   "execution_count": 30,
   "metadata": {},
   "outputs": [
    {
     "name": "stdout",
     "output_type": "stream",
     "text": [
      "Tests Passed\n"
     ]
    }
   ],
   "source": [
    "def normalize(x):\n",
    "    \"\"\"\n",
    "    Normalize a list of sample image data in the range of 0 to 1\n",
    "    : x: List of image data.  The image shape is (32, 32, 3)\n",
    "    : return: Numpy array of normalize data\n",
    "    \"\"\"\n",
    "    # TODO: Implement Function\n",
    "    maxv = np.max(x)\n",
    "    minv = np.min(x)\n",
    "    \n",
    "    return (x-minv)/(maxv-minv)\n",
    "\n",
    "\"\"\"\n",
    "DON'T MODIFY ANYTHING IN THIS CELL THAT IS BELOW THIS LINE\n",
    "\"\"\"\n",
    "tests.test_normalize(normalize)"
   ]
  },
  {
   "cell_type": "markdown",
   "metadata": {},
   "source": [
    "### One-hot encode\n",
    "Just like the previous code cell, you'll be implementing a function for preprocessing.  This time, you'll implement the `one_hot_encode` function. The input, `x`, are a list of labels.  Implement the function to return the list of labels as One-Hot encoded Numpy array.  The possible values for labels are 0 to 9. The one-hot encoding function should return the same encoding for each value between each call to `one_hot_encode`.  Make sure to save the map of encodings outside the function.\n",
    "\n",
    "Hint: Don't reinvent the wheel."
   ]
  },
  {
   "cell_type": "code",
   "execution_count": 31,
   "metadata": {},
   "outputs": [
    {
     "name": "stdout",
     "output_type": "stream",
     "text": [
      "Tests Passed\n"
     ]
    }
   ],
   "source": [
    "def one_hot_encode(x):\n",
    "    \"\"\"\n",
    "    One hot encode a list of sample labels. Return a one-hot encoded vector for each label.\n",
    "    : x: List of sample Labels\n",
    "    : return: Numpy array of one-hot encoded labels\n",
    "    \"\"\"\n",
    "    # TODO: Implement Function\n",
    "    \n",
    "        \n",
    "    return np.eye(10)[x]\n",
    "\n",
    "\n",
    "\"\"\"\n",
    "DON'T MODIFY ANYTHING IN THIS CELL THAT IS BELOW THIS LINE\n",
    "\"\"\"\n",
    "tests.test_one_hot_encode(one_hot_encode)"
   ]
  },
  {
   "cell_type": "markdown",
   "metadata": {},
   "source": [
    "### Randomize Data\n",
    "As you saw from exploring the data above, the order of the samples are randomized.  It doesn't hurt to randomize it again, but you don't need to for this dataset."
   ]
  },
  {
   "cell_type": "markdown",
   "metadata": {},
   "source": [
    "## Preprocess all the data and save it\n",
    "Running the code cell below will preprocess all the CIFAR-10 data and save it to file. The code below also uses 10% of the training data for validation."
   ]
  },
  {
   "cell_type": "code",
   "execution_count": 32,
   "metadata": {},
   "outputs": [],
   "source": [
    "\"\"\"\n",
    "DON'T MODIFY ANYTHING IN THIS CELL\n",
    "\"\"\"\n",
    "# Preprocess Training, Validation, and Testing Data\n",
    "helper.preprocess_and_save_data(cifar10_dataset_folder_path, normalize, one_hot_encode)"
   ]
  },
  {
   "cell_type": "markdown",
   "metadata": {},
   "source": [
    "# Check Point\n",
    "This is your first checkpoint.  If you ever decide to come back to this notebook or have to restart the notebook, you can start from here.  The preprocessed data has been saved to disk."
   ]
  },
  {
   "cell_type": "code",
   "execution_count": 33,
   "metadata": {},
   "outputs": [],
   "source": [
    "\"\"\"\n",
    "DON'T MODIFY ANYTHING IN THIS CELL\n",
    "\"\"\"\n",
    "import pickle\n",
    "import problem_unittests as tests\n",
    "import helper\n",
    "\n",
    "# Load the Preprocessed Validation data\n",
    "valid_features, valid_labels = pickle.load(open('preprocess_validation.p', mode='rb'))"
   ]
  },
  {
   "cell_type": "markdown",
   "metadata": {},
   "source": [
    "## Build the network\n",
    "For the neural network, you'll build each layer into a function.  Most of the code you've seen has been outside of functions. To test your code more thoroughly, we require that you put each layer in a function.  This allows us to give you better feedback and test for simple mistakes using our unittests before you submit your project.\n",
    "\n",
    ">**Note:** If you're finding it hard to dedicate enough time for this course each week, we've provided a small shortcut to this part of the project. In the next couple of problems, you'll have the option to use classes from the [TensorFlow Layers](https://www.tensorflow.org/api_docs/python/tf/layers) or [TensorFlow Layers (contrib)](https://www.tensorflow.org/api_guides/python/contrib.layers) packages to build each layer, except the layers you build in the \"Convolutional and Max Pooling Layer\" section.  TF Layers is similar to Keras's and TFLearn's abstraction to layers, so it's easy to pickup.\n",
    "\n",
    ">However, if you would like to get the most out of this course, try to solve all the problems _without_ using anything from the TF Layers packages. You **can** still use classes from other packages that happen to have the same name as ones you find in TF Layers! For example, instead of using the TF Layers version of the `conv2d` class, [tf.layers.conv2d](https://www.tensorflow.org/api_docs/python/tf/layers/conv2d), you would want to use the TF Neural Network version of `conv2d`, [tf.nn.conv2d](https://www.tensorflow.org/api_docs/python/tf/nn/conv2d). \n",
    "\n",
    "Let's begin!\n",
    "\n",
    "### Input\n",
    "The neural network needs to read the image data, one-hot encoded labels, and dropout keep probability. Implement the following functions\n",
    "* Implement `neural_net_image_input`\n",
    " * Return a [TF Placeholder](https://www.tensorflow.org/api_docs/python/tf/placeholder)\n",
    " * Set the shape using `image_shape` with batch size set to `None`.\n",
    " * Name the TensorFlow placeholder \"x\" using the TensorFlow `name` parameter in the [TF Placeholder](https://www.tensorflow.org/api_docs/python/tf/placeholder).\n",
    "* Implement `neural_net_label_input`\n",
    " * Return a [TF Placeholder](https://www.tensorflow.org/api_docs/python/tf/placeholder)\n",
    " * Set the shape using `n_classes` with batch size set to `None`.\n",
    " * Name the TensorFlow placeholder \"y\" using the TensorFlow `name` parameter in the [TF Placeholder](https://www.tensorflow.org/api_docs/python/tf/placeholder).\n",
    "* Implement `neural_net_keep_prob_input`\n",
    " * Return a [TF Placeholder](https://www.tensorflow.org/api_docs/python/tf/placeholder) for dropout keep probability.\n",
    " * Name the TensorFlow placeholder \"keep_prob\" using the TensorFlow `name` parameter in the [TF Placeholder](https://www.tensorflow.org/api_docs/python/tf/placeholder).\n",
    "\n",
    "These names will be used at the end of the project to load your saved model.\n",
    "\n",
    "Note: `None` for shapes in TensorFlow allow for a dynamic size."
   ]
  },
  {
   "cell_type": "code",
   "execution_count": 34,
   "metadata": {},
   "outputs": [
    {
     "name": "stdout",
     "output_type": "stream",
     "text": [
      "Image Input Tests Passed.\n",
      "Label Input Tests Passed.\n",
      "Keep Prob Tests Passed.\n"
     ]
    }
   ],
   "source": [
    "import tensorflow as tf\n",
    "\n",
    "def neural_net_image_input(image_shape):\n",
    "    \"\"\"\n",
    "    Return a Tensor for a batch of image input\n",
    "    : image_shape: Shape of the images\n",
    "    : return: Tensor for image input.\n",
    "    \"\"\"\n",
    "    # TODO: Implement Function\n",
    "    return tf.placeholder(tf.float32,shape=[None,image_shape[0],image_shape[1],image_shape[2]],name=\"x\")\n",
    "\n",
    "\n",
    "def neural_net_label_input(n_classes):\n",
    "    \"\"\"\n",
    "    Return a Tensor for a batch of label input\n",
    "    : n_classes: Number of classes\n",
    "    : return: Tensor for label input.\n",
    "    \"\"\"\n",
    "    # TODO: Implement Function\n",
    "    return tf.placeholder(tf.float32,shape=[None,n_classes],name=\"y\")\n",
    "\n",
    "\n",
    "def neural_net_keep_prob_input():\n",
    "    \"\"\"\n",
    "    Return a Tensor for keep probability\n",
    "    : return: Tensor for keep probability.\n",
    "    \"\"\"\n",
    "    # TODO: Implement Function\n",
    "    return tf.placeholder(tf.float32, name='keep_prob')\n",
    "\n",
    "\n",
    "\"\"\"\n",
    "DON'T MODIFY ANYTHING IN THIS CELL THAT IS BELOW THIS LINE\n",
    "\"\"\"\n",
    "tf.reset_default_graph()\n",
    "tests.test_nn_image_inputs(neural_net_image_input)\n",
    "tests.test_nn_label_inputs(neural_net_label_input)\n",
    "tests.test_nn_keep_prob_inputs(neural_net_keep_prob_input)"
   ]
  },
  {
   "cell_type": "markdown",
   "metadata": {},
   "source": [
    "### Convolution and Max Pooling Layer\n",
    "Convolution layers have a lot of success with images. For this code cell, you should implement the function `conv2d_maxpool` to apply convolution then max pooling:\n",
    "* Create the weight and bias using `conv_ksize`, `conv_num_outputs` and the shape of `x_tensor`.\n",
    "* Apply a convolution to `x_tensor` using weight and `conv_strides`.\n",
    " * We recommend you use same padding, but you're welcome to use any padding.\n",
    "* Add bias\n",
    "* Add a nonlinear activation to the convolution.\n",
    "* Apply Max Pooling using `pool_ksize` and `pool_strides`.\n",
    " * We recommend you use same padding, but you're welcome to use any padding.\n",
    "\n",
    "**Note:** You **can't** use [TensorFlow Layers](https://www.tensorflow.org/api_docs/python/tf/layers) or [TensorFlow Layers (contrib)](https://www.tensorflow.org/api_guides/python/contrib.layers) for **this** layer, but you can still use TensorFlow's [Neural Network](https://www.tensorflow.org/api_docs/python/tf/nn) package. You may still use the shortcut option for all the **other** layers."
   ]
  },
  {
   "cell_type": "code",
   "execution_count": 35,
   "metadata": {},
   "outputs": [
    {
     "name": "stdout",
     "output_type": "stream",
     "text": [
      "Tests Passed\n"
     ]
    }
   ],
   "source": [
    "def conv2d_maxpool(x_tensor, conv_num_outputs, conv_ksize, conv_strides, pool_ksize, pool_strides):\n",
    "    \"\"\"\n",
    "    Apply convolution then max pooling to x_tensor\n",
    "    :param x_tensor: TensorFlow Tensor\n",
    "    :param conv_num_outputs: Number of outputs for the convolutional layer\n",
    "    :param conv_ksize: kernal size 2-D Tuple for the convolutional layer\n",
    "    :param conv_strides: Stride 2-D Tuple for convolution\n",
    "    :param pool_ksize: kernal size 2-D Tuple for pool\n",
    "    :param pool_strides: Stride 2-D Tuple for pool\n",
    "    : return: A tensor that represents convolution and max pooling of x_tensor\n",
    "    \"\"\"\n",
    "    # TODO: Implement Function\n",
    "    depth=x_tensor.get_shape().as_list()[3]\n",
    "    W=tf.Variable(tf.random_normal([conv_ksize[0],conv_ksize[1],depth, conv_num_outputs],stddev=0.1))\n",
    "    b=tf.Variable(tf.random_normal([conv_num_outputs],mean=0.0,stddev=0.01))\n",
    "    \n",
    "    x = tf.nn.conv2d(x_tensor, W, strides=[1,conv_strides[0],conv_strides[1],1], padding='SAME')\n",
    "    x = tf.nn.bias_add(x, b) \n",
    "    \n",
    "    x  = tf.nn.relu(x, name=None) \n",
    "    x = tf.nn.max_pool(x,ksize=[1, pool_ksize[0], pool_ksize[1],1], strides=[1,pool_strides[0], pool_strides[1],1], padding='SAME')  \n",
    "    return x\n",
    "    \n",
    "  \n",
    "\n",
    "\n",
    "\"\"\"\n",
    "DON'T MODIFY ANYTHING IN THIS CELL THAT IS BELOW THIS LINE\n",
    "\"\"\"\n",
    "tests.test_con_pool(conv2d_maxpool)"
   ]
  },
  {
   "cell_type": "markdown",
   "metadata": {},
   "source": [
    "### Flatten Layer\n",
    "Implement the `flatten` function to change the dimension of `x_tensor` from a 4-D tensor to a 2-D tensor.  The output should be the shape (*Batch Size*, *Flattened Image Size*). Shortcut option: you can use classes from the [TensorFlow Layers](https://www.tensorflow.org/api_docs/python/tf/layers) or [TensorFlow Layers (contrib)](https://www.tensorflow.org/api_guides/python/contrib.layers) packages for this layer. For more of a challenge, only use other TensorFlow packages."
   ]
  },
  {
   "cell_type": "code",
   "execution_count": 36,
   "metadata": {},
   "outputs": [
    {
     "name": "stdout",
     "output_type": "stream",
     "text": [
      "Tests Passed\n"
     ]
    }
   ],
   "source": [
    "def flatten(x_tensor):\n",
    "    \"\"\"\n",
    "    Flatten x_tensor to (Batch Size, Flattened Image Size)\n",
    "    : x_tensor: A tensor of size (Batch Size, ...), where ... are the image dimensions.\n",
    "    : return: A tensor of size (Batch Size, Flattened Image Size).\n",
    "    \"\"\"\n",
    "    # TODO: Implement Function\n",
    "    newShape = x_tensor.get_shape().as_list()\n",
    "    dim_flat = np.prod(newShape[1:4])\n",
    "    \n",
    "    return tf.reshape(x_tensor,[-1,dim_flat])\n",
    "\n",
    "\n",
    "\"\"\"\n",
    "DON'T MODIFY ANYTHING IN THIS CELL THAT IS BELOW THIS LINE\n",
    "\"\"\"\n",
    "tests.test_flatten(flatten)"
   ]
  },
  {
   "cell_type": "markdown",
   "metadata": {},
   "source": [
    "### Fully-Connected Layer\n",
    "Implement the `fully_conn` function to apply a fully connected layer to `x_tensor` with the shape (*Batch Size*, *num_outputs*). Shortcut option: you can use classes from the [TensorFlow Layers](https://www.tensorflow.org/api_docs/python/tf/layers) or [TensorFlow Layers (contrib)](https://www.tensorflow.org/api_guides/python/contrib.layers) packages for this layer. For more of a challenge, only use other TensorFlow packages."
   ]
  },
  {
   "cell_type": "code",
   "execution_count": 37,
   "metadata": {},
   "outputs": [
    {
     "name": "stdout",
     "output_type": "stream",
     "text": [
      "Tests Passed\n"
     ]
    }
   ],
   "source": [
    "def fully_conn(x_tensor, num_outputs):\n",
    "    \"\"\"\n",
    "    Apply a fully connected layer to x_tensor using weight and bias\n",
    "    : x_tensor: A 2-D tensor where the first dimension is batch size.\n",
    "    : num_outputs: The number of output that the new tensor should be.\n",
    "    : return: A 2-D tensor where the second dimension is num_outputs.\n",
    "    \"\"\"\n",
    "    # TODO: Implement Function\n",
    "    \n",
    "    shape=x_tensor.get_shape().as_list() \n",
    "    \n",
    "    weights = {\n",
    "    'fc_layer': tf.Variable(tf.random_normal([shape[1],num_outputs],stddev=0.1))}\n",
    "    \n",
    "    biases = {\n",
    "    'fc_layer': tf.Variable(tf.random_normal([num_outputs],mean=0.0,stddev=0.01))}\n",
    "    \n",
    "    fc_layer=tf.add(tf.matmul(x_tensor,weights['fc_layer']), biases['fc_layer'])\n",
    "    fc_layer=tf.nn.relu(fc_layer)\n",
    "    return fc_layer\n",
    "\n",
    "\n",
    "\"\"\"\n",
    "DON'T MODIFY ANYTHING IN THIS CELL THAT IS BELOW THIS LINE\n",
    "\"\"\"\n",
    "tests.test_fully_conn(fully_conn)"
   ]
  },
  {
   "cell_type": "markdown",
   "metadata": {},
   "source": [
    "### Output Layer\n",
    "Implement the `output` function to apply a fully connected layer to `x_tensor` with the shape (*Batch Size*, *num_outputs*). Shortcut option: you can use classes from the [TensorFlow Layers](https://www.tensorflow.org/api_docs/python/tf/layers) or [TensorFlow Layers (contrib)](https://www.tensorflow.org/api_guides/python/contrib.layers) packages for this layer. For more of a challenge, only use other TensorFlow packages.\n",
    "\n",
    "**Note:** Activation, softmax, or cross entropy should **not** be applied to this."
   ]
  },
  {
   "cell_type": "code",
   "execution_count": 38,
   "metadata": {},
   "outputs": [
    {
     "name": "stdout",
     "output_type": "stream",
     "text": [
      "Tests Passed\n"
     ]
    }
   ],
   "source": [
    "def output(x_tensor, num_outputs):\n",
    "    \"\"\"\n",
    "    Apply a output layer to x_tensor using weight and bias\n",
    "    : x_tensor: A 2-D tensor where the first dimension is batch size.\n",
    "    : num_outputs: The number of output that the new tensor should be.\n",
    "    : return: A 2-D tensor where the second dimension is num_outputs.\n",
    "    \"\"\"\n",
    "    # TODO: Implement Function\n",
    "    shape=x_tensor.get_shape().as_list() \n",
    "    \n",
    "    weights = {\n",
    "    'output_layer': tf.Variable(tf.random_normal([shape[1],num_outputs]))}\n",
    "    \n",
    "    biases = {\n",
    "    'output_layer': tf.Variable(tf.random_normal([num_outputs]))}\n",
    "    \n",
    "    output_layer=tf.add(tf.matmul(x_tensor,weights['output_layer']), biases['output_layer'])\n",
    "    return output_layer\n",
    "\n",
    "\n",
    "\"\"\"\n",
    "DON'T MODIFY ANYTHING IN THIS CELL THAT IS BELOW THIS LINE\n",
    "\"\"\"\n",
    "tests.test_output(output)"
   ]
  },
  {
   "cell_type": "markdown",
   "metadata": {},
   "source": [
    "### Create Convolutional Model\n",
    "Implement the function `conv_net` to create a convolutional neural network model. The function takes in a batch of images, `x`, and outputs logits.  Use the layers you created above to create this model:\n",
    "\n",
    "* Apply 1, 2, or 3 Convolution and Max Pool layers\n",
    "* Apply a Flatten Layer\n",
    "* Apply 1, 2, or 3 Fully Connected Layers\n",
    "* Apply an Output Layer\n",
    "* Return the output\n",
    "* Apply [TensorFlow's Dropout](https://www.tensorflow.org/api_docs/python/tf/nn/dropout) to one or more layers in the model using `keep_prob`. "
   ]
  },
  {
   "cell_type": "code",
   "execution_count": 39,
   "metadata": {},
   "outputs": [
    {
     "name": "stdout",
     "output_type": "stream",
     "text": [
      "Neural Network Built!\n"
     ]
    }
   ],
   "source": [
    "def conv_net(x, keep_prob):\n",
    "    \"\"\"\n",
    "    Create a convolutional neural network model\n",
    "    : x: Placeholder tensor that holds image data.\n",
    "    : keep_prob: Placeholder tensor that hold dropout keep probability.\n",
    "    : return: Tensor that represents logits\n",
    "    \"\"\"\n",
    "    # TODO: Apply 1, 2, or 3 Convolution and Max Pool layers\n",
    "    #    Play around with different number of outputs, kernel size and stride\n",
    "    # Function Definition from Above:\n",
    "    #    conv2d_maxpool(x_tensor, conv_num_outputs, conv_ksize, conv_strides, pool_ksize, pool_strides)\n",
    "    x_tensor = x\n",
    "    conv_num_outputs = 9\n",
    "    conv_ksize = [3,3]\n",
    "    conv_strides = [1,1]\n",
    "    pool_ksize = [2,2]\n",
    "    pool_strides = [2,2]\n",
    "    \n",
    "    \n",
    "    conv1 = conv2d_maxpool(x_tensor,conv_num_outputs,conv_ksize,conv_strides,pool_ksize,pool_strides)\n",
    "    conv2 = conv2d_maxpool(conv1,conv_num_outputs*2,conv_ksize,conv_strides,pool_ksize,pool_strides)\n",
    "    conv2 = tf.nn.dropout(conv2,keep_prob=keep_prob)\n",
    "    conv = conv2\n",
    "    \n",
    "    # TODO: Apply a Flatten Layer\n",
    "    # Function Definition from Above:\n",
    "    #   flatten(x_tensor)\n",
    "    flat = flatten(conv)\n",
    "   \n",
    "\n",
    "    # TODO: Apply 1, 2, or 3 Fully Connected Layers\n",
    "    #    Play around with different number of outputs\n",
    "    # Function Definition from Above:\n",
    "    #   fully_conn(x_tensor, num_outputs)\n",
    "    \n",
    "    num_outputs = 60\n",
    "    \n",
    "    fullyconn1 = fully_conn(flat,num_outputs)\n",
    "    fullyconn1 = tf.nn.dropout(fullyconn1,keep_prob=keep_prob)\n",
    "    fullyconn2 = fully_conn(fullyconn1,num_outputs//2)\n",
    "    fullyconn2 = tf.nn.dropout(fullyconn2,keep_prob=keep_prob)\n",
    "    \n",
    "    fc = fullyconn2\n",
    "    # TODO: Apply an Output Layer\n",
    "    #    Set this to the number of classes\n",
    "    # Function Definition from Above:\n",
    "    #   output(x_tensor, num_outputs)\n",
    "    \n",
    "    out = output(fc, 10)\n",
    "    # TODO: return output\n",
    "    return out\n",
    "\n",
    "\n",
    "\"\"\"\n",
    "DON'T MODIFY ANYTHING IN THIS CELL THAT IS BELOW THIS LINE\n",
    "\"\"\"\n",
    "\n",
    "##############################\n",
    "## Build the Neural Network ##\n",
    "##############################\n",
    "\n",
    "# Remove previous weights, bias, inputs, etc..\n",
    "tf.reset_default_graph()\n",
    "\n",
    "# Inputs\n",
    "x = neural_net_image_input((32, 32, 3))\n",
    "y = neural_net_label_input(10)\n",
    "keep_prob = neural_net_keep_prob_input()\n",
    "\n",
    "# Model\n",
    "logits = conv_net(x, keep_prob)\n",
    "\n",
    "# Name logits Tensor, so that is can be loaded from disk after training\n",
    "logits = tf.identity(logits, name='logits')\n",
    "\n",
    "# Loss and Optimizer\n",
    "cost = tf.reduce_mean(tf.nn.softmax_cross_entropy_with_logits(logits=logits, labels=y))\n",
    "optimizer = tf.train.AdamOptimizer().minimize(cost)\n",
    "\n",
    "# Accuracy\n",
    "correct_pred = tf.equal(tf.argmax(logits, 1), tf.argmax(y, 1))\n",
    "accuracy = tf.reduce_mean(tf.cast(correct_pred, tf.float32), name='accuracy')\n",
    "\n",
    "tests.test_conv_net(conv_net)"
   ]
  },
  {
   "cell_type": "markdown",
   "metadata": {},
   "source": [
    "## Train the Neural Network\n",
    "### Single Optimization\n",
    "Implement the function `train_neural_network` to do a single optimization.  The optimization should use `optimizer` to optimize in `session` with a `feed_dict` of the following:\n",
    "* `x` for image input\n",
    "* `y` for labels\n",
    "* `keep_prob` for keep probability for dropout\n",
    "\n",
    "This function will be called for each batch, so `tf.global_variables_initializer()` has already been called.\n",
    "\n",
    "Note: Nothing needs to be returned. This function is only optimizing the neural network."
   ]
  },
  {
   "cell_type": "code",
   "execution_count": 40,
   "metadata": {},
   "outputs": [
    {
     "name": "stdout",
     "output_type": "stream",
     "text": [
      "Tests Passed\n"
     ]
    }
   ],
   "source": [
    "def train_neural_network(session, optimizer, keep_probability, feature_batch, label_batch):\n",
    "    \"\"\"\n",
    "    Optimize the session on a batch of images and labels\n",
    "    : session: Current TensorFlow session\n",
    "    : optimizer: TensorFlow optimizer function\n",
    "    : keep_probability: keep probability\n",
    "    : feature_batch: Batch of Numpy image data\n",
    "    : label_batch: Batch of Numpy label data\n",
    "    \"\"\"\n",
    "    # TODO: Implement Function\n",
    "    session.run(optimizer, feed_dict={keep_prob:keep_probability, x:feature_batch, y:label_batch})\n",
    "\n",
    "\n",
    "\n",
    "\"\"\"\n",
    "DON'T MODIFY ANYTHING IN THIS CELL THAT IS BELOW THIS LINE\n",
    "\"\"\"\n",
    "tests.test_train_nn(train_neural_network)"
   ]
  },
  {
   "cell_type": "markdown",
   "metadata": {},
   "source": [
    "### Show Stats\n",
    "Implement the function `print_stats` to print loss and validation accuracy.  Use the global variables `valid_features` and `valid_labels` to calculate validation accuracy.  Use a keep probability of `1.0` to calculate the loss and validation accuracy."
   ]
  },
  {
   "cell_type": "code",
   "execution_count": 41,
   "metadata": {},
   "outputs": [],
   "source": [
    "def print_stats(session, feature_batch, label_batch, cost, accuracy):\n",
    "    \"\"\"\n",
    "    Print information about loss and validation accuracy\n",
    "    : session: Current TensorFlow session\n",
    "    : feature_batch: Batch of Numpy image data\n",
    "    : label_batch: Batch of Numpy label data\n",
    "    : cost: TensorFlow cost function\n",
    "    : accuracy: TensorFlow accuracy function\n",
    "    \"\"\"\n",
    "    # TODO: Implement Function\n",
    "    \n",
    "    loss=sess.run(cost, feed_dict={\n",
    "                x:feature_batch,\n",
    "                y:label_batch,\n",
    "                keep_prob: 1.})\n",
    "    \n",
    "    global valid_features, valid_labels\n",
    "    valid_acc=sess.run(accuracy, feed_dict={\n",
    "                x:valid_features,\n",
    "                y:valid_labels,\n",
    "                keep_prob: 1.})\n",
    "    \n",
    "    print('Loss: {:>10.4f} Validation Accuracy: {:.6f}'.format(\n",
    "                loss,\n",
    "                valid_acc))"
   ]
  },
  {
   "cell_type": "markdown",
   "metadata": {},
   "source": [
    "### Hyperparameters\n",
    "Tune the following parameters:\n",
    "* Set `epochs` to the number of iterations until the network stops learning or start overfitting\n",
    "* Set `batch_size` to the highest number that your machine has memory for.  Most people set them to common sizes of memory:\n",
    " * 64\n",
    " * 128\n",
    " * 256\n",
    " * ...\n",
    "* Set `keep_probability` to the probability of keeping a node using dropout"
   ]
  },
  {
   "cell_type": "code",
   "execution_count": 42,
   "metadata": {},
   "outputs": [],
   "source": [
    "# TODO: Tune Parameters\n",
    "epochs = 50\n",
    "batch_size = 256\n",
    "keep_probability = 0.5"
   ]
  },
  {
   "cell_type": "markdown",
   "metadata": {},
   "source": [
    "### Train on a Single CIFAR-10 Batch\n",
    "Instead of training the neural network on all the CIFAR-10 batches of data, let's use a single batch. This should save time while you iterate on the model to get a better accuracy.  Once the final validation accuracy is 50% or greater, run the model on all the data in the next section."
   ]
  },
  {
   "cell_type": "code",
   "execution_count": 43,
   "metadata": {},
   "outputs": [
    {
     "name": "stdout",
     "output_type": "stream",
     "text": [
      "Checking the Training on a Single Batch...\n",
      "Epoch  1, CIFAR-10 Batch 1:  Loss:     2.5906 Validation Accuracy: 0.099800\n",
      "Epoch  2, CIFAR-10 Batch 1:  Loss:     2.5133 Validation Accuracy: 0.099800\n",
      "Epoch  3, CIFAR-10 Batch 1:  Loss:     2.4285 Validation Accuracy: 0.100000\n",
      "Epoch  4, CIFAR-10 Batch 1:  Loss:     2.3042 Validation Accuracy: 0.202600\n",
      "Epoch  5, CIFAR-10 Batch 1:  Loss:     2.2464 Validation Accuracy: 0.207800\n",
      "Epoch  6, CIFAR-10 Batch 1:  Loss:     2.1958 Validation Accuracy: 0.211400\n",
      "Epoch  7, CIFAR-10 Batch 1:  Loss:     2.1314 Validation Accuracy: 0.257400\n",
      "Epoch  8, CIFAR-10 Batch 1:  Loss:     2.0837 Validation Accuracy: 0.294800\n",
      "Epoch  9, CIFAR-10 Batch 1:  Loss:     2.0561 Validation Accuracy: 0.300200\n",
      "Epoch 10, CIFAR-10 Batch 1:  Loss:     2.0350 Validation Accuracy: 0.319400\n",
      "Epoch 11, CIFAR-10 Batch 1:  Loss:     1.9813 Validation Accuracy: 0.333000\n",
      "Epoch 12, CIFAR-10 Batch 1:  Loss:     1.9308 Validation Accuracy: 0.369200\n",
      "Epoch 13, CIFAR-10 Batch 1:  Loss:     1.9200 Validation Accuracy: 0.358400\n",
      "Epoch 14, CIFAR-10 Batch 1:  Loss:     1.8573 Validation Accuracy: 0.374000\n",
      "Epoch 15, CIFAR-10 Batch 1:  Loss:     1.8350 Validation Accuracy: 0.380000\n",
      "Epoch 16, CIFAR-10 Batch 1:  Loss:     1.7999 Validation Accuracy: 0.387600\n",
      "Epoch 17, CIFAR-10 Batch 1:  Loss:     1.7433 Validation Accuracy: 0.394400\n",
      "Epoch 18, CIFAR-10 Batch 1:  Loss:     1.6999 Validation Accuracy: 0.403600\n",
      "Epoch 19, CIFAR-10 Batch 1:  Loss:     1.6857 Validation Accuracy: 0.410400\n",
      "Epoch 20, CIFAR-10 Batch 1:  Loss:     1.6192 Validation Accuracy: 0.411600\n",
      "Epoch 21, CIFAR-10 Batch 1:  Loss:     1.6216 Validation Accuracy: 0.419000\n",
      "Epoch 22, CIFAR-10 Batch 1:  Loss:     1.5703 Validation Accuracy: 0.431400\n",
      "Epoch 23, CIFAR-10 Batch 1:  Loss:     1.5352 Validation Accuracy: 0.434800\n",
      "Epoch 24, CIFAR-10 Batch 1:  Loss:     1.5158 Validation Accuracy: 0.434000\n",
      "Epoch 25, CIFAR-10 Batch 1:  Loss:     1.4782 Validation Accuracy: 0.439600\n",
      "Epoch 26, CIFAR-10 Batch 1:  Loss:     1.4744 Validation Accuracy: 0.443800\n",
      "Epoch 27, CIFAR-10 Batch 1:  Loss:     1.4239 Validation Accuracy: 0.455600\n",
      "Epoch 28, CIFAR-10 Batch 1:  Loss:     1.4227 Validation Accuracy: 0.455400\n",
      "Epoch 29, CIFAR-10 Batch 1:  Loss:     1.3650 Validation Accuracy: 0.466800\n",
      "Epoch 30, CIFAR-10 Batch 1:  Loss:     1.3826 Validation Accuracy: 0.468200\n",
      "Epoch 31, CIFAR-10 Batch 1:  Loss:     1.3591 Validation Accuracy: 0.470000\n",
      "Epoch 32, CIFAR-10 Batch 1:  Loss:     1.3097 Validation Accuracy: 0.481800\n",
      "Epoch 33, CIFAR-10 Batch 1:  Loss:     1.3071 Validation Accuracy: 0.469000\n",
      "Epoch 34, CIFAR-10 Batch 1:  Loss:     1.3020 Validation Accuracy: 0.482600\n",
      "Epoch 35, CIFAR-10 Batch 1:  Loss:     1.2812 Validation Accuracy: 0.477400\n",
      "Epoch 36, CIFAR-10 Batch 1:  Loss:     1.2649 Validation Accuracy: 0.481600\n",
      "Epoch 37, CIFAR-10 Batch 1:  Loss:     1.2499 Validation Accuracy: 0.486200\n",
      "Epoch 38, CIFAR-10 Batch 1:  Loss:     1.2259 Validation Accuracy: 0.491000\n",
      "Epoch 39, CIFAR-10 Batch 1:  Loss:     1.2253 Validation Accuracy: 0.484800\n",
      "Epoch 40, CIFAR-10 Batch 1:  Loss:     1.1939 Validation Accuracy: 0.484800\n",
      "Epoch 41, CIFAR-10 Batch 1:  Loss:     1.1695 Validation Accuracy: 0.495600\n",
      "Epoch 42, CIFAR-10 Batch 1:  Loss:     1.1621 Validation Accuracy: 0.498600\n",
      "Epoch 43, CIFAR-10 Batch 1:  Loss:     1.1549 Validation Accuracy: 0.501600\n",
      "Epoch 44, CIFAR-10 Batch 1:  Loss:     1.1280 Validation Accuracy: 0.505000\n",
      "Epoch 45, CIFAR-10 Batch 1:  Loss:     1.1251 Validation Accuracy: 0.509000\n",
      "Epoch 46, CIFAR-10 Batch 1:  Loss:     1.1359 Validation Accuracy: 0.507200\n",
      "Epoch 47, CIFAR-10 Batch 1:  Loss:     1.1365 Validation Accuracy: 0.495200\n",
      "Epoch 48, CIFAR-10 Batch 1:  Loss:     1.0690 Validation Accuracy: 0.507000\n",
      "Epoch 49, CIFAR-10 Batch 1:  Loss:     1.0801 Validation Accuracy: 0.516000\n",
      "Epoch 50, CIFAR-10 Batch 1:  Loss:     1.0373 Validation Accuracy: 0.515800\n"
     ]
    }
   ],
   "source": [
    "\"\"\"\n",
    "DON'T MODIFY ANYTHING IN THIS CELL\n",
    "\"\"\"\n",
    "print('Checking the Training on a Single Batch...')\n",
    "with tf.Session() as sess:\n",
    "    # Initializing the variables\n",
    "    sess.run(tf.global_variables_initializer())\n",
    "    \n",
    "    # Training cycle\n",
    "    for epoch in range(epochs):\n",
    "        batch_i = 1\n",
    "        for batch_features, batch_labels in helper.load_preprocess_training_batch(batch_i, batch_size):\n",
    "            train_neural_network(sess, optimizer, keep_probability, batch_features, batch_labels)\n",
    "        print('Epoch {:>2}, CIFAR-10 Batch {}:  '.format(epoch + 1, batch_i), end='')\n",
    "        print_stats(sess, batch_features, batch_labels, cost, accuracy)"
   ]
  },
  {
   "cell_type": "markdown",
   "metadata": {},
   "source": [
    "### Fully Train the Model\n",
    "Now that you got a good accuracy with a single CIFAR-10 batch, try it with all five batches."
   ]
  },
  {
   "cell_type": "code",
   "execution_count": 44,
   "metadata": {},
   "outputs": [
    {
     "name": "stdout",
     "output_type": "stream",
     "text": [
      "Training...\n",
      "Epoch  1, CIFAR-10 Batch 1:  Loss:     2.8363 Validation Accuracy: 0.106200\n",
      "Epoch  1, CIFAR-10 Batch 2:  Loss:     2.7655 Validation Accuracy: 0.105000\n",
      "Epoch  1, CIFAR-10 Batch 3:  Loss:     2.7405 Validation Accuracy: 0.105400\n",
      "Epoch  1, CIFAR-10 Batch 4:  Loss:     2.3662 Validation Accuracy: 0.135800\n",
      "Epoch  1, CIFAR-10 Batch 5:  Loss:     2.5068 Validation Accuracy: 0.151000\n",
      "Epoch  2, CIFAR-10 Batch 1:  Loss:     2.3507 Validation Accuracy: 0.199600\n",
      "Epoch  2, CIFAR-10 Batch 2:  Loss:     2.2270 Validation Accuracy: 0.236200\n",
      "Epoch  2, CIFAR-10 Batch 3:  Loss:     2.1496 Validation Accuracy: 0.242200\n",
      "Epoch  2, CIFAR-10 Batch 4:  Loss:     1.9956 Validation Accuracy: 0.255600\n",
      "Epoch  2, CIFAR-10 Batch 5:  Loss:     2.0725 Validation Accuracy: 0.266400\n",
      "Epoch  3, CIFAR-10 Batch 1:  Loss:     2.1221 Validation Accuracy: 0.247000\n",
      "Epoch  3, CIFAR-10 Batch 2:  Loss:     1.9838 Validation Accuracy: 0.292600\n",
      "Epoch  3, CIFAR-10 Batch 3:  Loss:     1.8439 Validation Accuracy: 0.326200\n",
      "Epoch  3, CIFAR-10 Batch 4:  Loss:     1.8053 Validation Accuracy: 0.339600\n",
      "Epoch  3, CIFAR-10 Batch 5:  Loss:     1.8893 Validation Accuracy: 0.329200\n",
      "Epoch  4, CIFAR-10 Batch 1:  Loss:     1.9731 Validation Accuracy: 0.344600\n",
      "Epoch  4, CIFAR-10 Batch 2:  Loss:     1.8887 Validation Accuracy: 0.344400\n",
      "Epoch  4, CIFAR-10 Batch 3:  Loss:     1.6961 Validation Accuracy: 0.383200\n",
      "Epoch  4, CIFAR-10 Batch 4:  Loss:     1.6858 Validation Accuracy: 0.399400\n",
      "Epoch  4, CIFAR-10 Batch 5:  Loss:     1.6988 Validation Accuracy: 0.391000\n",
      "Epoch  5, CIFAR-10 Batch 1:  Loss:     1.8116 Validation Accuracy: 0.403200\n",
      "Epoch  5, CIFAR-10 Batch 2:  Loss:     1.7355 Validation Accuracy: 0.402800\n",
      "Epoch  5, CIFAR-10 Batch 3:  Loss:     1.5865 Validation Accuracy: 0.419200\n",
      "Epoch  5, CIFAR-10 Batch 4:  Loss:     1.5985 Validation Accuracy: 0.427400\n",
      "Epoch  5, CIFAR-10 Batch 5:  Loss:     1.6401 Validation Accuracy: 0.440600\n",
      "Epoch  6, CIFAR-10 Batch 1:  Loss:     1.7679 Validation Accuracy: 0.427000\n",
      "Epoch  6, CIFAR-10 Batch 2:  Loss:     1.6594 Validation Accuracy: 0.430400\n",
      "Epoch  6, CIFAR-10 Batch 3:  Loss:     1.4924 Validation Accuracy: 0.446800\n",
      "Epoch  6, CIFAR-10 Batch 4:  Loss:     1.5326 Validation Accuracy: 0.453000\n",
      "Epoch  6, CIFAR-10 Batch 5:  Loss:     1.5441 Validation Accuracy: 0.458800\n",
      "Epoch  7, CIFAR-10 Batch 1:  Loss:     1.6591 Validation Accuracy: 0.456800\n",
      "Epoch  7, CIFAR-10 Batch 2:  Loss:     1.6469 Validation Accuracy: 0.437600\n",
      "Epoch  7, CIFAR-10 Batch 3:  Loss:     1.4642 Validation Accuracy: 0.473600\n",
      "Epoch  7, CIFAR-10 Batch 4:  Loss:     1.4877 Validation Accuracy: 0.477200\n",
      "Epoch  7, CIFAR-10 Batch 5:  Loss:     1.5268 Validation Accuracy: 0.472600\n",
      "Epoch  8, CIFAR-10 Batch 1:  Loss:     1.5913 Validation Accuracy: 0.469400\n",
      "Epoch  8, CIFAR-10 Batch 2:  Loss:     1.5450 Validation Accuracy: 0.479800\n",
      "Epoch  8, CIFAR-10 Batch 3:  Loss:     1.4318 Validation Accuracy: 0.478800\n",
      "Epoch  8, CIFAR-10 Batch 4:  Loss:     1.4003 Validation Accuracy: 0.492600\n",
      "Epoch  8, CIFAR-10 Batch 5:  Loss:     1.4651 Validation Accuracy: 0.491600\n",
      "Epoch  9, CIFAR-10 Batch 1:  Loss:     1.4677 Validation Accuracy: 0.503200\n",
      "Epoch  9, CIFAR-10 Batch 2:  Loss:     1.4431 Validation Accuracy: 0.485000\n",
      "Epoch  9, CIFAR-10 Batch 3:  Loss:     1.3518 Validation Accuracy: 0.504800\n",
      "Epoch  9, CIFAR-10 Batch 4:  Loss:     1.3675 Validation Accuracy: 0.504600\n",
      "Epoch  9, CIFAR-10 Batch 5:  Loss:     1.4374 Validation Accuracy: 0.498000\n",
      "Epoch 10, CIFAR-10 Batch 1:  Loss:     1.4855 Validation Accuracy: 0.504800\n",
      "Epoch 10, CIFAR-10 Batch 2:  Loss:     1.4138 Validation Accuracy: 0.503600\n",
      "Epoch 10, CIFAR-10 Batch 3:  Loss:     1.2921 Validation Accuracy: 0.514400\n",
      "Epoch 10, CIFAR-10 Batch 4:  Loss:     1.2813 Validation Accuracy: 0.518200\n",
      "Epoch 10, CIFAR-10 Batch 5:  Loss:     1.3679 Validation Accuracy: 0.522400\n",
      "Epoch 11, CIFAR-10 Batch 1:  Loss:     1.3258 Validation Accuracy: 0.517400\n",
      "Epoch 11, CIFAR-10 Batch 2:  Loss:     1.3443 Validation Accuracy: 0.515600\n",
      "Epoch 11, CIFAR-10 Batch 3:  Loss:     1.2962 Validation Accuracy: 0.523000\n",
      "Epoch 11, CIFAR-10 Batch 4:  Loss:     1.2701 Validation Accuracy: 0.528200\n",
      "Epoch 11, CIFAR-10 Batch 5:  Loss:     1.3595 Validation Accuracy: 0.521000\n",
      "Epoch 12, CIFAR-10 Batch 1:  Loss:     1.3150 Validation Accuracy: 0.529200\n",
      "Epoch 12, CIFAR-10 Batch 2:  Loss:     1.3210 Validation Accuracy: 0.526800\n",
      "Epoch 12, CIFAR-10 Batch 3:  Loss:     1.2797 Validation Accuracy: 0.533400\n",
      "Epoch 12, CIFAR-10 Batch 4:  Loss:     1.2574 Validation Accuracy: 0.527200\n",
      "Epoch 12, CIFAR-10 Batch 5:  Loss:     1.2889 Validation Accuracy: 0.544000\n",
      "Epoch 13, CIFAR-10 Batch 1:  Loss:     1.2520 Validation Accuracy: 0.538800\n",
      "Epoch 13, CIFAR-10 Batch 2:  Loss:     1.2632 Validation Accuracy: 0.535000\n",
      "Epoch 13, CIFAR-10 Batch 3:  Loss:     1.2436 Validation Accuracy: 0.535800\n",
      "Epoch 13, CIFAR-10 Batch 4:  Loss:     1.2183 Validation Accuracy: 0.547000\n",
      "Epoch 13, CIFAR-10 Batch 5:  Loss:     1.2866 Validation Accuracy: 0.532000\n",
      "Epoch 14, CIFAR-10 Batch 1:  Loss:     1.2568 Validation Accuracy: 0.541600\n",
      "Epoch 14, CIFAR-10 Batch 2:  Loss:     1.2435 Validation Accuracy: 0.543800\n",
      "Epoch 14, CIFAR-10 Batch 3:  Loss:     1.2230 Validation Accuracy: 0.554000\n",
      "Epoch 14, CIFAR-10 Batch 4:  Loss:     1.1867 Validation Accuracy: 0.549800\n",
      "Epoch 14, CIFAR-10 Batch 5:  Loss:     1.2338 Validation Accuracy: 0.553000\n",
      "Epoch 15, CIFAR-10 Batch 1:  Loss:     1.1903 Validation Accuracy: 0.550800\n",
      "Epoch 15, CIFAR-10 Batch 2:  Loss:     1.1904 Validation Accuracy: 0.549400\n",
      "Epoch 15, CIFAR-10 Batch 3:  Loss:     1.1457 Validation Accuracy: 0.557800\n",
      "Epoch 15, CIFAR-10 Batch 4:  Loss:     1.1758 Validation Accuracy: 0.562600\n",
      "Epoch 15, CIFAR-10 Batch 5:  Loss:     1.2422 Validation Accuracy: 0.554200\n",
      "Epoch 16, CIFAR-10 Batch 1:  Loss:     1.1781 Validation Accuracy: 0.553800\n",
      "Epoch 16, CIFAR-10 Batch 2:  Loss:     1.1588 Validation Accuracy: 0.562200\n",
      "Epoch 16, CIFAR-10 Batch 3:  Loss:     1.1415 Validation Accuracy: 0.562600\n",
      "Epoch 16, CIFAR-10 Batch 4:  Loss:     1.1332 Validation Accuracy: 0.563400\n",
      "Epoch 16, CIFAR-10 Batch 5:  Loss:     1.1693 Validation Accuracy: 0.565000\n",
      "Epoch 17, CIFAR-10 Batch 1:  Loss:     1.1908 Validation Accuracy: 0.548400\n",
      "Epoch 17, CIFAR-10 Batch 2:  Loss:     1.1210 Validation Accuracy: 0.560200\n",
      "Epoch 17, CIFAR-10 Batch 3:  Loss:     1.1603 Validation Accuracy: 0.561400\n",
      "Epoch 17, CIFAR-10 Batch 4:  Loss:     1.1201 Validation Accuracy: 0.572200\n",
      "Epoch 17, CIFAR-10 Batch 5:  Loss:     1.1501 Validation Accuracy: 0.546400\n",
      "Epoch 18, CIFAR-10 Batch 1:  Loss:     1.1402 Validation Accuracy: 0.572800\n",
      "Epoch 18, CIFAR-10 Batch 2:  Loss:     1.1179 Validation Accuracy: 0.573200\n",
      "Epoch 18, CIFAR-10 Batch 3:  Loss:     1.0953 Validation Accuracy: 0.574000\n",
      "Epoch 18, CIFAR-10 Batch 4:  Loss:     1.1042 Validation Accuracy: 0.578600\n",
      "Epoch 18, CIFAR-10 Batch 5:  Loss:     1.1226 Validation Accuracy: 0.565200\n",
      "Epoch 19, CIFAR-10 Batch 1:  Loss:     1.0475 Validation Accuracy: 0.572800\n",
      "Epoch 19, CIFAR-10 Batch 2:  Loss:     1.0762 Validation Accuracy: 0.569000\n",
      "Epoch 19, CIFAR-10 Batch 3:  Loss:     1.0878 Validation Accuracy: 0.574000\n",
      "Epoch 19, CIFAR-10 Batch 4:  Loss:     1.0824 Validation Accuracy: 0.584000\n",
      "Epoch 19, CIFAR-10 Batch 5:  Loss:     1.0990 Validation Accuracy: 0.575800\n",
      "Epoch 20, CIFAR-10 Batch 1:  Loss:     1.0853 Validation Accuracy: 0.571200\n",
      "Epoch 20, CIFAR-10 Batch 2:  Loss:     1.0679 Validation Accuracy: 0.586400\n",
      "Epoch 20, CIFAR-10 Batch 3:  Loss:     1.0760 Validation Accuracy: 0.587400\n",
      "Epoch 20, CIFAR-10 Batch 4:  Loss:     1.0781 Validation Accuracy: 0.592000\n",
      "Epoch 20, CIFAR-10 Batch 5:  Loss:     1.0709 Validation Accuracy: 0.586800\n",
      "Epoch 21, CIFAR-10 Batch 1:  Loss:     1.0526 Validation Accuracy: 0.573800\n",
      "Epoch 21, CIFAR-10 Batch 2:  Loss:     1.0495 Validation Accuracy: 0.593000\n",
      "Epoch 21, CIFAR-10 Batch 3:  Loss:     1.0455 Validation Accuracy: 0.596400\n",
      "Epoch 21, CIFAR-10 Batch 4:  Loss:     1.1028 Validation Accuracy: 0.588000\n",
      "Epoch 21, CIFAR-10 Batch 5:  Loss:     1.0310 Validation Accuracy: 0.590600\n",
      "Epoch 22, CIFAR-10 Batch 1:  Loss:     1.0651 Validation Accuracy: 0.569400\n",
      "Epoch 22, CIFAR-10 Batch 2:  Loss:     1.0428 Validation Accuracy: 0.585200\n",
      "Epoch 22, CIFAR-10 Batch 3:  Loss:     1.0396 Validation Accuracy: 0.594600\n"
     ]
    },
    {
     "name": "stdout",
     "output_type": "stream",
     "text": [
      "Epoch 22, CIFAR-10 Batch 4:  Loss:     1.0743 Validation Accuracy: 0.591400\n",
      "Epoch 22, CIFAR-10 Batch 5:  Loss:     1.0317 Validation Accuracy: 0.583400\n",
      "Epoch 23, CIFAR-10 Batch 1:  Loss:     1.0174 Validation Accuracy: 0.589000\n",
      "Epoch 23, CIFAR-10 Batch 2:  Loss:     0.9817 Validation Accuracy: 0.598000\n",
      "Epoch 23, CIFAR-10 Batch 3:  Loss:     0.9795 Validation Accuracy: 0.594000\n",
      "Epoch 23, CIFAR-10 Batch 4:  Loss:     1.0309 Validation Accuracy: 0.600600\n",
      "Epoch 23, CIFAR-10 Batch 5:  Loss:     0.9914 Validation Accuracy: 0.596200\n",
      "Epoch 24, CIFAR-10 Batch 1:  Loss:     0.9827 Validation Accuracy: 0.604400\n",
      "Epoch 24, CIFAR-10 Batch 2:  Loss:     1.0358 Validation Accuracy: 0.590400\n",
      "Epoch 24, CIFAR-10 Batch 3:  Loss:     0.9824 Validation Accuracy: 0.601600\n",
      "Epoch 24, CIFAR-10 Batch 4:  Loss:     1.0236 Validation Accuracy: 0.601200\n",
      "Epoch 24, CIFAR-10 Batch 5:  Loss:     0.9790 Validation Accuracy: 0.585800\n",
      "Epoch 25, CIFAR-10 Batch 1:  Loss:     0.9928 Validation Accuracy: 0.600200\n",
      "Epoch 25, CIFAR-10 Batch 2:  Loss:     0.9705 Validation Accuracy: 0.605200\n",
      "Epoch 25, CIFAR-10 Batch 3:  Loss:     0.9577 Validation Accuracy: 0.597400\n",
      "Epoch 25, CIFAR-10 Batch 4:  Loss:     1.0346 Validation Accuracy: 0.603400\n",
      "Epoch 25, CIFAR-10 Batch 5:  Loss:     1.0261 Validation Accuracy: 0.597800\n",
      "Epoch 26, CIFAR-10 Batch 1:  Loss:     0.9558 Validation Accuracy: 0.599400\n",
      "Epoch 26, CIFAR-10 Batch 2:  Loss:     1.0000 Validation Accuracy: 0.602000\n",
      "Epoch 26, CIFAR-10 Batch 3:  Loss:     0.9443 Validation Accuracy: 0.603800\n",
      "Epoch 26, CIFAR-10 Batch 4:  Loss:     0.9779 Validation Accuracy: 0.600200\n",
      "Epoch 26, CIFAR-10 Batch 5:  Loss:     0.9599 Validation Accuracy: 0.598600\n",
      "Epoch 27, CIFAR-10 Batch 1:  Loss:     0.9735 Validation Accuracy: 0.595200\n",
      "Epoch 27, CIFAR-10 Batch 2:  Loss:     0.9234 Validation Accuracy: 0.595800\n",
      "Epoch 27, CIFAR-10 Batch 3:  Loss:     0.9526 Validation Accuracy: 0.604400\n",
      "Epoch 27, CIFAR-10 Batch 4:  Loss:     0.9801 Validation Accuracy: 0.610400\n",
      "Epoch 27, CIFAR-10 Batch 5:  Loss:     0.9632 Validation Accuracy: 0.607000\n",
      "Epoch 28, CIFAR-10 Batch 1:  Loss:     0.8986 Validation Accuracy: 0.611400\n",
      "Epoch 28, CIFAR-10 Batch 2:  Loss:     0.9394 Validation Accuracy: 0.609000\n",
      "Epoch 28, CIFAR-10 Batch 3:  Loss:     0.9014 Validation Accuracy: 0.616800\n",
      "Epoch 28, CIFAR-10 Batch 4:  Loss:     0.9570 Validation Accuracy: 0.613200\n",
      "Epoch 28, CIFAR-10 Batch 5:  Loss:     0.9249 Validation Accuracy: 0.607600\n",
      "Epoch 29, CIFAR-10 Batch 1:  Loss:     0.9399 Validation Accuracy: 0.606600\n",
      "Epoch 29, CIFAR-10 Batch 2:  Loss:     0.8982 Validation Accuracy: 0.612000\n",
      "Epoch 29, CIFAR-10 Batch 3:  Loss:     0.8666 Validation Accuracy: 0.605200\n",
      "Epoch 29, CIFAR-10 Batch 4:  Loss:     0.9666 Validation Accuracy: 0.624000\n",
      "Epoch 29, CIFAR-10 Batch 5:  Loss:     0.8910 Validation Accuracy: 0.616400\n",
      "Epoch 30, CIFAR-10 Batch 1:  Loss:     0.9193 Validation Accuracy: 0.610800\n",
      "Epoch 30, CIFAR-10 Batch 2:  Loss:     0.8814 Validation Accuracy: 0.611600\n",
      "Epoch 30, CIFAR-10 Batch 3:  Loss:     0.8952 Validation Accuracy: 0.599600\n",
      "Epoch 30, CIFAR-10 Batch 4:  Loss:     0.9729 Validation Accuracy: 0.614000\n",
      "Epoch 30, CIFAR-10 Batch 5:  Loss:     0.9176 Validation Accuracy: 0.617400\n",
      "Epoch 31, CIFAR-10 Batch 1:  Loss:     0.9164 Validation Accuracy: 0.613200\n",
      "Epoch 31, CIFAR-10 Batch 2:  Loss:     0.9019 Validation Accuracy: 0.612000\n",
      "Epoch 31, CIFAR-10 Batch 3:  Loss:     0.8522 Validation Accuracy: 0.602200\n",
      "Epoch 31, CIFAR-10 Batch 4:  Loss:     0.9619 Validation Accuracy: 0.613200\n",
      "Epoch 31, CIFAR-10 Batch 5:  Loss:     0.8472 Validation Accuracy: 0.613800\n",
      "Epoch 32, CIFAR-10 Batch 1:  Loss:     0.9208 Validation Accuracy: 0.609600\n",
      "Epoch 32, CIFAR-10 Batch 2:  Loss:     0.8941 Validation Accuracy: 0.617800\n",
      "Epoch 32, CIFAR-10 Batch 3:  Loss:     0.8542 Validation Accuracy: 0.622200\n",
      "Epoch 32, CIFAR-10 Batch 4:  Loss:     0.9668 Validation Accuracy: 0.630800\n",
      "Epoch 32, CIFAR-10 Batch 5:  Loss:     0.8419 Validation Accuracy: 0.619400\n",
      "Epoch 33, CIFAR-10 Batch 1:  Loss:     0.8910 Validation Accuracy: 0.626600\n",
      "Epoch 33, CIFAR-10 Batch 2:  Loss:     0.8790 Validation Accuracy: 0.624400\n",
      "Epoch 33, CIFAR-10 Batch 3:  Loss:     0.8732 Validation Accuracy: 0.621000\n",
      "Epoch 33, CIFAR-10 Batch 4:  Loss:     0.9382 Validation Accuracy: 0.620000\n",
      "Epoch 33, CIFAR-10 Batch 5:  Loss:     0.8903 Validation Accuracy: 0.614800\n",
      "Epoch 34, CIFAR-10 Batch 1:  Loss:     0.8776 Validation Accuracy: 0.626000\n",
      "Epoch 34, CIFAR-10 Batch 2:  Loss:     0.8265 Validation Accuracy: 0.617600\n",
      "Epoch 34, CIFAR-10 Batch 3:  Loss:     0.8387 Validation Accuracy: 0.615200\n",
      "Epoch 34, CIFAR-10 Batch 4:  Loss:     0.9433 Validation Accuracy: 0.618600\n",
      "Epoch 34, CIFAR-10 Batch 5:  Loss:     0.8315 Validation Accuracy: 0.625000\n",
      "Epoch 35, CIFAR-10 Batch 1:  Loss:     0.8821 Validation Accuracy: 0.618600\n",
      "Epoch 35, CIFAR-10 Batch 2:  Loss:     0.8487 Validation Accuracy: 0.619600\n",
      "Epoch 35, CIFAR-10 Batch 3:  Loss:     0.8301 Validation Accuracy: 0.623400\n",
      "Epoch 35, CIFAR-10 Batch 4:  Loss:     0.8838 Validation Accuracy: 0.624800\n",
      "Epoch 35, CIFAR-10 Batch 5:  Loss:     0.8288 Validation Accuracy: 0.624600\n",
      "Epoch 36, CIFAR-10 Batch 1:  Loss:     0.8900 Validation Accuracy: 0.635600\n",
      "Epoch 36, CIFAR-10 Batch 2:  Loss:     0.8372 Validation Accuracy: 0.624400\n",
      "Epoch 36, CIFAR-10 Batch 3:  Loss:     0.8150 Validation Accuracy: 0.613200\n",
      "Epoch 36, CIFAR-10 Batch 4:  Loss:     0.9240 Validation Accuracy: 0.623400\n",
      "Epoch 36, CIFAR-10 Batch 5:  Loss:     0.8270 Validation Accuracy: 0.624600\n",
      "Epoch 37, CIFAR-10 Batch 1:  Loss:     0.8247 Validation Accuracy: 0.624600\n",
      "Epoch 37, CIFAR-10 Batch 2:  Loss:     0.8722 Validation Accuracy: 0.620000\n",
      "Epoch 37, CIFAR-10 Batch 3:  Loss:     0.8072 Validation Accuracy: 0.622800\n",
      "Epoch 37, CIFAR-10 Batch 4:  Loss:     0.8612 Validation Accuracy: 0.621800\n",
      "Epoch 37, CIFAR-10 Batch 5:  Loss:     0.8498 Validation Accuracy: 0.630200\n",
      "Epoch 38, CIFAR-10 Batch 1:  Loss:     0.8443 Validation Accuracy: 0.634800\n",
      "Epoch 38, CIFAR-10 Batch 2:  Loss:     0.8455 Validation Accuracy: 0.628200\n",
      "Epoch 38, CIFAR-10 Batch 3:  Loss:     0.8166 Validation Accuracy: 0.612200\n",
      "Epoch 38, CIFAR-10 Batch 4:  Loss:     0.8753 Validation Accuracy: 0.615600\n",
      "Epoch 38, CIFAR-10 Batch 5:  Loss:     0.7898 Validation Accuracy: 0.618400\n",
      "Epoch 39, CIFAR-10 Batch 1:  Loss:     0.8652 Validation Accuracy: 0.632000\n",
      "Epoch 39, CIFAR-10 Batch 2:  Loss:     0.7970 Validation Accuracy: 0.631800\n",
      "Epoch 39, CIFAR-10 Batch 3:  Loss:     0.7844 Validation Accuracy: 0.625600\n",
      "Epoch 39, CIFAR-10 Batch 4:  Loss:     0.8652 Validation Accuracy: 0.633400\n",
      "Epoch 39, CIFAR-10 Batch 5:  Loss:     0.7700 Validation Accuracy: 0.625000\n",
      "Epoch 40, CIFAR-10 Batch 1:  Loss:     0.8445 Validation Accuracy: 0.633000\n",
      "Epoch 40, CIFAR-10 Batch 2:  Loss:     0.7748 Validation Accuracy: 0.618800\n",
      "Epoch 40, CIFAR-10 Batch 3:  Loss:     0.8098 Validation Accuracy: 0.632000\n",
      "Epoch 40, CIFAR-10 Batch 4:  Loss:     0.8546 Validation Accuracy: 0.632200\n",
      "Epoch 40, CIFAR-10 Batch 5:  Loss:     0.7688 Validation Accuracy: 0.633200\n",
      "Epoch 41, CIFAR-10 Batch 1:  Loss:     0.8479 Validation Accuracy: 0.636000\n",
      "Epoch 41, CIFAR-10 Batch 2:  Loss:     0.7917 Validation Accuracy: 0.629800\n",
      "Epoch 41, CIFAR-10 Batch 3:  Loss:     0.7923 Validation Accuracy: 0.630200\n",
      "Epoch 41, CIFAR-10 Batch 4:  Loss:     0.8627 Validation Accuracy: 0.638400\n",
      "Epoch 41, CIFAR-10 Batch 5:  Loss:     0.7704 Validation Accuracy: 0.630200\n",
      "Epoch 42, CIFAR-10 Batch 1:  Loss:     0.8194 Validation Accuracy: 0.630800\n",
      "Epoch 42, CIFAR-10 Batch 2:  Loss:     0.7891 Validation Accuracy: 0.628800\n",
      "Epoch 42, CIFAR-10 Batch 3:  Loss:     0.7913 Validation Accuracy: 0.624800\n",
      "Epoch 42, CIFAR-10 Batch 4:  Loss:     0.8374 Validation Accuracy: 0.631200\n",
      "Epoch 42, CIFAR-10 Batch 5:  Loss:     0.7559 Validation Accuracy: 0.635200\n",
      "Epoch 43, CIFAR-10 Batch 1:  Loss:     0.8122 Validation Accuracy: 0.622000\n",
      "Epoch 43, CIFAR-10 Batch 2:  Loss:     0.7580 Validation Accuracy: 0.634800\n",
      "Epoch 43, CIFAR-10 Batch 3:  Loss:     0.7453 Validation Accuracy: 0.636200\n",
      "Epoch 43, CIFAR-10 Batch 4:  Loss:     0.8647 Validation Accuracy: 0.636000\n",
      "Epoch 43, CIFAR-10 Batch 5:  Loss:     0.7262 Validation Accuracy: 0.633000\n",
      "Epoch 44, CIFAR-10 Batch 1:  Loss:     0.7815 Validation Accuracy: 0.632800\n"
     ]
    },
    {
     "name": "stdout",
     "output_type": "stream",
     "text": [
      "Epoch 44, CIFAR-10 Batch 2:  Loss:     0.7708 Validation Accuracy: 0.638800\n",
      "Epoch 44, CIFAR-10 Batch 3:  Loss:     0.7356 Validation Accuracy: 0.639400\n",
      "Epoch 44, CIFAR-10 Batch 4:  Loss:     0.8224 Validation Accuracy: 0.638000\n",
      "Epoch 44, CIFAR-10 Batch 5:  Loss:     0.7222 Validation Accuracy: 0.635400\n",
      "Epoch 45, CIFAR-10 Batch 1:  Loss:     0.7755 Validation Accuracy: 0.639400\n",
      "Epoch 45, CIFAR-10 Batch 2:  Loss:     0.7555 Validation Accuracy: 0.630800\n",
      "Epoch 45, CIFAR-10 Batch 3:  Loss:     0.7772 Validation Accuracy: 0.622400\n",
      "Epoch 45, CIFAR-10 Batch 4:  Loss:     0.8263 Validation Accuracy: 0.640200\n",
      "Epoch 45, CIFAR-10 Batch 5:  Loss:     0.7592 Validation Accuracy: 0.632400\n",
      "Epoch 46, CIFAR-10 Batch 1:  Loss:     0.7873 Validation Accuracy: 0.633200\n",
      "Epoch 46, CIFAR-10 Batch 2:  Loss:     0.7584 Validation Accuracy: 0.643400\n",
      "Epoch 46, CIFAR-10 Batch 3:  Loss:     0.7510 Validation Accuracy: 0.636400\n",
      "Epoch 46, CIFAR-10 Batch 4:  Loss:     0.8041 Validation Accuracy: 0.643800\n",
      "Epoch 46, CIFAR-10 Batch 5:  Loss:     0.7928 Validation Accuracy: 0.638200\n",
      "Epoch 47, CIFAR-10 Batch 1:  Loss:     0.8102 Validation Accuracy: 0.633600\n",
      "Epoch 47, CIFAR-10 Batch 2:  Loss:     0.7517 Validation Accuracy: 0.639200\n",
      "Epoch 47, CIFAR-10 Batch 3:  Loss:     0.7608 Validation Accuracy: 0.634600\n",
      "Epoch 47, CIFAR-10 Batch 4:  Loss:     0.8325 Validation Accuracy: 0.626200\n",
      "Epoch 47, CIFAR-10 Batch 5:  Loss:     0.7225 Validation Accuracy: 0.645400\n",
      "Epoch 48, CIFAR-10 Batch 1:  Loss:     0.7988 Validation Accuracy: 0.639800\n",
      "Epoch 48, CIFAR-10 Batch 2:  Loss:     0.7868 Validation Accuracy: 0.644800\n",
      "Epoch 48, CIFAR-10 Batch 3:  Loss:     0.7741 Validation Accuracy: 0.634000\n",
      "Epoch 48, CIFAR-10 Batch 4:  Loss:     0.8609 Validation Accuracy: 0.627000\n",
      "Epoch 48, CIFAR-10 Batch 5:  Loss:     0.7847 Validation Accuracy: 0.629600\n",
      "Epoch 49, CIFAR-10 Batch 1:  Loss:     0.7891 Validation Accuracy: 0.641000\n",
      "Epoch 49, CIFAR-10 Batch 2:  Loss:     0.7809 Validation Accuracy: 0.636200\n",
      "Epoch 49, CIFAR-10 Batch 3:  Loss:     0.7556 Validation Accuracy: 0.630800\n",
      "Epoch 49, CIFAR-10 Batch 4:  Loss:     0.8181 Validation Accuracy: 0.634600\n",
      "Epoch 49, CIFAR-10 Batch 5:  Loss:     0.7079 Validation Accuracy: 0.645800\n",
      "Epoch 50, CIFAR-10 Batch 1:  Loss:     0.7655 Validation Accuracy: 0.636400\n",
      "Epoch 50, CIFAR-10 Batch 2:  Loss:     0.7238 Validation Accuracy: 0.642200\n",
      "Epoch 50, CIFAR-10 Batch 3:  Loss:     0.7290 Validation Accuracy: 0.638200\n",
      "Epoch 50, CIFAR-10 Batch 4:  Loss:     0.8121 Validation Accuracy: 0.642000\n",
      "Epoch 50, CIFAR-10 Batch 5:  Loss:     0.7261 Validation Accuracy: 0.640000\n"
     ]
    }
   ],
   "source": [
    "\"\"\"\n",
    "DON'T MODIFY ANYTHING IN THIS CELL\n",
    "\"\"\"\n",
    "save_model_path = './image_classification'\n",
    "\n",
    "print('Training...')\n",
    "with tf.Session() as sess:\n",
    "    # Initializing the variables\n",
    "    sess.run(tf.global_variables_initializer())\n",
    "    \n",
    "    # Training cycle\n",
    "    for epoch in range(epochs):\n",
    "        # Loop over all batches\n",
    "        n_batches = 5\n",
    "        for batch_i in range(1, n_batches + 1):\n",
    "            for batch_features, batch_labels in helper.load_preprocess_training_batch(batch_i, batch_size):\n",
    "                train_neural_network(sess, optimizer, keep_probability, batch_features, batch_labels)\n",
    "            print('Epoch {:>2}, CIFAR-10 Batch {}:  '.format(epoch + 1, batch_i), end='')\n",
    "            print_stats(sess, batch_features, batch_labels, cost, accuracy)\n",
    "            \n",
    "    # Save Model\n",
    "    saver = tf.train.Saver()\n",
    "    save_path = saver.save(sess, save_model_path)"
   ]
  },
  {
   "cell_type": "markdown",
   "metadata": {},
   "source": [
    "# Checkpoint\n",
    "The model has been saved to disk.\n",
    "## Test Model\n",
    "Test your model against the test dataset.  This will be your final accuracy. You should have an accuracy greater than 50%. If you don't, keep tweaking the model architecture and parameters."
   ]
  },
  {
   "cell_type": "code",
   "execution_count": 45,
   "metadata": {},
   "outputs": [
    {
     "name": "stdout",
     "output_type": "stream",
     "text": [
      "INFO:tensorflow:Restoring parameters from ./image_classification\n",
      "Testing Accuracy: 0.642578125\n",
      "\n"
     ]
    },
    {
     "data": {
      "image/png": "[encoded data removed]",
      "text/plain": [
       "<matplotlib.figure.Figure at 0x7f1d30f9b400>"
      ]
     },
     "metadata": {
      "image/png": {
       "height": 319,
       "width": 355
      }
     },
     "output_type": "display_data"
    }
   ],
   "source": [
    "\"\"\"\n",
    "DON'T MODIFY ANYTHING IN THIS CELL\n",
    "\"\"\"\n",
    "%matplotlib inline\n",
    "%config InlineBackend.figure_format = 'retina'\n",
    "\n",
    "import tensorflow as tf\n",
    "import pickle\n",
    "import helper\n",
    "import random\n",
    "\n",
    "# Set batch size if not already set\n",
    "try:\n",
    "    if batch_size:\n",
    "        pass\n",
    "except NameError:\n",
    "    batch_size = 64\n",
    "\n",
    "save_model_path = './image_classification'\n",
    "n_samples = 4\n",
    "top_n_predictions = 3\n",
    "\n",
    "def test_model():\n",
    "    \"\"\"\n",
    "    Test the saved model against the test dataset\n",
    "    \"\"\"\n",
    "\n",
    "    test_features, test_labels = pickle.load(open('preprocess_test.p', mode='rb'))\n",
    "    loaded_graph = tf.Graph()\n",
    "\n",
    "    with tf.Session(graph=loaded_graph) as sess:\n",
    "        # Load model\n",
    "        loader = tf.train.import_meta_graph(save_model_path + '.meta')\n",
    "        loader.restore(sess, save_model_path)\n",
    "\n",
    "        # Get Tensors from loaded model\n",
    "        loaded_x = loaded_graph.get_tensor_by_name('x:0')\n",
    "        loaded_y = loaded_graph.get_tensor_by_name('y:0')\n",
    "        loaded_keep_prob = loaded_graph.get_tensor_by_name('keep_prob:0')\n",
    "        loaded_logits = loaded_graph.get_tensor_by_name('logits:0')\n",
    "        loaded_acc = loaded_graph.get_tensor_by_name('accuracy:0')\n",
    "        \n",
    "        # Get accuracy in batches for memory limitations\n",
    "        test_batch_acc_total = 0\n",
    "        test_batch_count = 0\n",
    "        \n",
    "        for test_feature_batch, test_label_batch in helper.batch_features_labels(test_features, test_labels, batch_size):\n",
    "            test_batch_acc_total += sess.run(\n",
    "                loaded_acc,\n",
    "                feed_dict={loaded_x: test_feature_batch, loaded_y: test_label_batch, loaded_keep_prob: 1.0})\n",
    "            test_batch_count += 1\n",
    "\n",
    "        print('Testing Accuracy: {}\\n'.format(test_batch_acc_total/test_batch_count))\n",
    "\n",
    "        # Print Random Samples\n",
    "        random_test_features, random_test_labels = tuple(zip(*random.sample(list(zip(test_features, test_labels)), n_samples)))\n",
    "        random_test_predictions = sess.run(\n",
    "            tf.nn.top_k(tf.nn.softmax(loaded_logits), top_n_predictions),\n",
    "            feed_dict={loaded_x: random_test_features, loaded_y: random_test_labels, loaded_keep_prob: 1.0})\n",
    "        helper.display_image_predictions(random_test_features, random_test_labels, random_test_predictions)\n",
    "\n",
    "\n",
    "test_model()"
   ]
  },
  {
   "cell_type": "markdown",
   "metadata": {},
   "source": [
    "## Why 50-80% Accuracy?\n",
    "You might be wondering why you can't get an accuracy any higher. First things first, 50% isn't bad for a simple CNN.  Pure guessing would get you 10% accuracy. However, you might notice people are getting scores [well above 80%](http://rodrigob.github.io/are_we_there_yet/build/classification_datasets_results.html#43494641522d3130).  That's because we haven't taught you all there is to know about neural networks. We still need to cover a few more techniques.\n",
    "## Submitting This Project\n",
    "When submitting this project, make sure to run all the cells before saving the notebook.  Save the notebook file as \"dlnd_image_classification.ipynb\" and save it as a HTML file under \"File\" -> \"Download as\".  Include the \"helper.py\" and \"problem_unittests.py\" files in your submission."
   ]
  }
 ],
 "metadata": {
  "anaconda-cloud": {},
  "kernelspec": {
   "display_name": "Python 3",
   "language": "python",
   "name": "python3"
  },
  "language_info": {
   "codemirror_mode": {
    "name": "ipython",
    "version": 3
   },
   "file_extension": ".py",
   "mimetype": "text/x-python",
   "name": "python",
   "nbconvert_exporter": "python",
   "pygments_lexer": "ipython3",
   "version": "3.5.2"
  }
 },
 "nbformat": 4,
 "nbformat_minor": 1
}
